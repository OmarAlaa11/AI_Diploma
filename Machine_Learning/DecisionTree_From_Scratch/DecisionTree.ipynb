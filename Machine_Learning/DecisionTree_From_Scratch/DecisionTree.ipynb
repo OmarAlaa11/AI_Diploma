{
 "cells": [
  {
   "cell_type": "code",
   "execution_count": 39,
   "id": "b22a362c",
   "metadata": {},
   "outputs": [],
   "source": [
    "# A decision tree is a flowchart-like structure where each internal node represents a feature (or attribute),\n",
    "# each branch represents a decision rule, and each leaf node represents the outcome.\n",
    "# It effectively divides the data into subsets based on different features to make predictions or decisions."
   ]
  },
  {
   "cell_type": "code",
   "execution_count": 68,
   "id": "518cf35d",
   "metadata": {},
   "outputs": [],
   "source": [
    "#The goal is to create a tree that minimizes impurity or maximizes information gain at each node."
   ]
  },
  {
   "cell_type": "code",
   "execution_count": 81,
   "id": "aa89778f",
   "metadata": {},
   "outputs": [],
   "source": [
    "import numpy as np\n",
    "from sklearn.metrics import accuracy_score"
   ]
  },
  {
   "cell_type": "code",
   "execution_count": 78,
   "id": "9bee0d58",
   "metadata": {},
   "outputs": [],
   "source": [
    "class DecisionTree:\n",
    "    def __init__(self):\n",
    "        self.tree = {}\n",
    "\n",
    "# Entropy to calculate the Impurity\n",
    "# I(Dp,D_left,D_right)=-Sum(p)log2(p)\n",
    "    def entropy(self, y):\n",
    "        _, counts = np.unique(y, return_counts=True)\n",
    "        probs = counts / len(y)\n",
    "        return -np.sum(probs * np.log2(probs))\n",
    "\n",
    "# Split data for every feature:\n",
    "# If X=[[6, 1], [3, 1], [4, 0], [2, 1], [1, 0], [5, 0]]\n",
    "# n_features=2\n",
    "    def find_best_split(self, X, y):\n",
    "        best_split = {}\n",
    "        best_info_gain = -1\n",
    "        n_features = X.shape[1]\n",
    "\n",
    "        for feature in range(n_features):\n",
    "            feature_values = np.unique(X[:, feature])# feature_values=0,1\n",
    "            for value in feature_values:\n",
    "                left_indices = np.where(X[:, feature] <= value)[0]\n",
    "                right_indices = np.where(X[:, feature] > value)[0]\n",
    "\n",
    "                left_labels = y[left_indices]#D(left)\n",
    "                right_labels = y[right_indices]#D(right)\n",
    "\n",
    "                info_gain = self.info_gain(y, left_labels, right_labels)\n",
    "                if info_gain > best_info_gain:\n",
    "                    best_info_gain = info_gain\n",
    "                    best_split = {\n",
    "                        'feature_index': feature,\n",
    "                        'threshold': value,\n",
    "                        'left_indices': left_indices,\n",
    "                        'right_indices': right_indices\n",
    "                    }\n",
    "\n",
    "        return best_split\n",
    "\n",
    "# IG(Dp,F)=I(Dp)-N_left/Np*I(D_left)-N_right/Np*I(D_right).\n",
    "    def info_gain(self, y, left_labels, right_labels):\n",
    "        p = len(left_labels) / len(y)\n",
    "        q = len(right_labels) / len(y)\n",
    "        return self.entropy(y) - (p * self.entropy(left_labels) + q * self.entropy(right_labels))\n",
    "\n",
    "    \n",
    "# stopping criterion:\n",
    "# 1)Reaching minimum number of samples : \n",
    "    def build_tree(self, X, y, depth=0, max_depth=5):\n",
    "        if len(np.unique(y)) == 1:\n",
    "            major_class = np.unique(y)[0]\n",
    "            return major_class\n",
    "\n",
    "# 2)Reaching a maximum depth :\n",
    "        if depth == max_depth:\n",
    "            major_class = np.unique(y)[np.argmax(np.bincount(y))]\n",
    "            return major_class\n",
    "\n",
    "        best_split = self.find_best_split(X, y)\n",
    "        feature_index = best_split['feature_index']\n",
    "        threshold = best_split['threshold']\n",
    "        left_indices = best_split['left_indices']\n",
    "        right_indices = best_split['right_indices']\n",
    "\n",
    "        left_node = self.build_tree(X[left_indices], y[left_indices], depth + 1, max_depth)\n",
    "        right_node = self.build_tree(X[right_indices], y[right_indices], depth + 1, max_depth)\n",
    "\n",
    "        self.tree[(feature_index, threshold)] = {'left': left_node, 'right': right_node}\n",
    "\n",
    "    def predict(self, X):\n",
    "        predictions = []\n",
    "        for sample in X:\n",
    "            node = self.tree\n",
    "            while isinstance(node, dict):\n",
    "                feature_index, threshold = list(node.keys())[0]\n",
    "                if sample[feature_index] <= threshold:\n",
    "                    node = node[(feature_index, threshold)]['left']\n",
    "                else:\n",
    "                    node = node[(feature_index, threshold)]['right']\n",
    "            predictions.append(node)\n",
    "        return np.array(predictions)"
   ]
  },
  {
   "cell_type": "code",
   "execution_count": 79,
   "id": "b75173e3",
   "metadata": {},
   "outputs": [
    {
     "name": "stdout",
     "output_type": "stream",
     "text": [
      "[1 1]\n"
     ]
    }
   ],
   "source": [
    "X = np.array([[6, 1], [3, 1], [4, 0], [2, 1], [1, 0], [5, 0]])\n",
    "y = np.array([1, 0, 0, 1, 0, 1])\n",
    "\n",
    "tree = DecisionTree()\n",
    "tree.build_tree(X, y)\n",
    "\n",
    "X_test = np.array([[2, 1], [6, 0]])\n",
    "predictions = tree.predict(X_test)\n",
    "\n",
    "print(predictions)"
   ]
  },
  {
   "cell_type": "code",
   "execution_count": 80,
   "id": "e685ccb3",
   "metadata": {},
   "outputs": [
    {
     "data": {
      "text/plain": [
       "array([1, 1])"
      ]
     },
     "execution_count": 80,
     "metadata": {},
     "output_type": "execute_result"
    }
   ],
   "source": [
    "from sklearn.tree import DecisionTreeClassifier\n",
    "clf = DecisionTreeClassifier()\n",
    "\n",
    "clf.fit(X, y)\n",
    "\n",
    "\n",
    "clf.predict(X_test)"
   ]
  },
  {
   "cell_type": "markdown",
   "id": "df40e186",
   "metadata": {},
   "source": [
    "## Done..."
   ]
  },
  {
   "cell_type": "code",
   "execution_count": null,
   "id": "168a21ef",
   "metadata": {},
   "outputs": [],
   "source": []
  }
 ],
 "metadata": {
  "kernelspec": {
   "display_name": "Python 3 (ipykernel)",
   "language": "python",
   "name": "python3"
  },
  "language_info": {
   "codemirror_mode": {
    "name": "ipython",
    "version": 3
   },
   "file_extension": ".py",
   "mimetype": "text/x-python",
   "name": "python",
   "nbconvert_exporter": "python",
   "pygments_lexer": "ipython3",
   "version": "3.11.4"
  }
 },
 "nbformat": 4,
 "nbformat_minor": 5
}
