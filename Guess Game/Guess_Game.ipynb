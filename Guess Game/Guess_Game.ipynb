{
 "cells": [
  {
   "cell_type": "code",
   "execution_count": 8,
   "id": "f41cd5cd",
   "metadata": {},
   "outputs": [],
   "source": [
    "import random as random"
   ]
  },
  {
   "cell_type": "code",
   "execution_count": 9,
   "id": "3466c685",
   "metadata": {},
   "outputs": [
    {
     "data": {
      "text/plain": [
       "'mbabe'"
      ]
     },
     "execution_count": 9,
     "metadata": {},
     "output_type": "execute_result"
    }
   ],
   "source": [
    "L=[\"ronaldo\",\"messi\",\"neymar\",\"mbabe\",\"muller\",\"haland\"]\n",
    "R=random.choice(L)\n",
    "R"
   ]
  },
  {
   "cell_type": "code",
   "execution_count": 10,
   "id": "9e0ef218",
   "metadata": {},
   "outputs": [
    {
     "data": {
      "text/plain": [
       "['m', 'b', 'a', 'b', 'e']"
      ]
     },
     "execution_count": 10,
     "metadata": {},
     "output_type": "execute_result"
    }
   ],
   "source": [
    "letters=list(R)\n",
    "letters"
   ]
  },
  {
   "cell_type": "code",
   "execution_count": 5,
   "id": "360a658b",
   "metadata": {},
   "outputs": [
    {
     "data": {
      "text/plain": [
       "'m,e,s,s,i'"
      ]
     },
     "execution_count": 5,
     "metadata": {},
     "output_type": "execute_result"
    }
   ],
   "source": [
    "letters=\",\".join(letters)\n",
    "letters"
   ]
  },
  {
   "cell_type": "code",
   "execution_count": 12,
   "id": "45447994",
   "metadata": {},
   "outputs": [],
   "source": [
    "display=[]\n",
    "for i in (letters):\n",
    "    display.append(\"-\")"
   ]
  },
  {
   "cell_type": "code",
   "execution_count": 7,
   "id": "3c8d0837",
   "metadata": {},
   "outputs": [
    {
     "data": {
      "text/plain": [
       "['-', '-', '-', '-', '-', '-', '-', '-', '-']"
      ]
     },
     "execution_count": 7,
     "metadata": {},
     "output_type": "execute_result"
    }
   ],
   "source": [
    "display"
   ]
  },
  {
   "cell_type": "code",
   "execution_count": 221,
   "id": "87824a3c",
   "metadata": {},
   "outputs": [
    {
     "name": "stdout",
     "output_type": "stream",
     "text": [
      "Please Enter your nameHagar\n",
      "Hello Hagar,Welcome to the Game.\n",
      "\n",
      "Guess a word in 6 letters \n",
      " ['-', '-', '-', '-', '-', '-'] \n",
      "\n",
      "Guess a letter : H\n",
      "\n",
      "['h', '-', '-', '-', '-', '-']\n",
      "Guess a letter : d\n",
      "\n",
      "['h', '-', '-', '-', '-', 'd']\n",
      "Guess a letter : a\n",
      "\n",
      "['h', 'a', '-', 'a', '-', 'd']\n",
      "Guess a letter : l\n",
      "\n",
      "['h', 'a', 'l', 'a', '-', 'd']\n",
      "Guess a letter : b\n",
      "\n",
      "['h', 'a', 'l', 'a', '-', 'd']\n",
      "Wrong,Please Try again!\n",
      "Guess a letter : n\n",
      "\n",
      "['h', 'a', 'l', 'a', 'n', 'd']\n",
      "\n",
      " Congratulations You Win!!!!\n"
     ]
    }
   ],
   "source": [
    "n=len(R)\n",
    "name=input(\"Please Enter your name\")\n",
    "print(f\"Hello {name},Welcome to the Game.\\n\")\n",
    "print(f\"Guess a word in {n} letters \\n {display} \\n\")\n",
    "while \"-\" in display:\n",
    "    Guess=input(\"Guess a letter : \").lower()\n",
    "    if Guess in letters:\n",
    "        for position in range(n):\n",
    "            letter=letters[position]\n",
    "            if letter ==  Guess:\n",
    "                display[position]=Guess\n",
    "    print(f\"\\n{display}\")\n",
    "    if Guess not in letters:\n",
    "        print(\"Wrong,Please Try again!\")\n",
    "    if \"-\" not in display:\n",
    "        print(\"\\n Congratulations You Win!!!!\")\n",
    "        display.clear()\n",
    "        break"
   ]
  },
  {
   "cell_type": "code",
   "execution_count": null,
   "id": "460d82d8",
   "metadata": {},
   "outputs": [],
   "source": []
  }
 ],
 "metadata": {
  "kernelspec": {
   "display_name": "Python 3 (ipykernel)",
   "language": "python",
   "name": "python3"
  },
  "language_info": {
   "codemirror_mode": {
    "name": "ipython",
    "version": 3
   },
   "file_extension": ".py",
   "mimetype": "text/x-python",
   "name": "python",
   "nbconvert_exporter": "python",
   "pygments_lexer": "ipython3",
   "version": "3.9.12"
  }
 },
 "nbformat": 4,
 "nbformat_minor": 5
}
